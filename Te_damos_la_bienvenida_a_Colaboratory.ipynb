{
  "cells": [
    {
      "cell_type": "markdown",
      "metadata": {
        "id": "view-in-github",
        "colab_type": "text"
      },
      "source": [
        "<a href=\"https://colab.research.google.com/github/JoseLobos/Programacion-3/blob/main/Te_damos_la_bienvenida_a_Colaboratory.ipynb\" target=\"_parent\"><img src=\"https://colab.research.google.com/assets/colab-badge.svg\" alt=\"Open In Colab\"/></a>"
      ]
    },
    {
      "cell_type": "code",
      "source": [
        "print(\"hola Mundo\", \"Bienvenidos a Programacion Computacional III, con Python\")\n",
        "print(\"Mi nombre es: \", \"Jose Lobos\")"
      ],
      "metadata": {
        "colab": {
          "base_uri": "https://localhost:8080/"
        },
        "id": "f-y8Px-XhH3N",
        "outputId": "bc5275dc-5210-47c5-e9d3-044c024ae56b"
      },
      "execution_count": null,
      "outputs": [
        {
          "output_type": "stream",
          "name": "stdout",
          "text": [
            "hola Mundo Bienvenidos a Programacion Computacional III, con Python\n",
            "Mi nombre es:  Jose Lobos\n"
          ]
        }
      ]
    },
    {
      "cell_type": "code",
      "source": [
        "nombre = \"Jose Lobos\"\n",
        "print(\"Hola \", nombre, type(nombre))\n",
        "\n",
        "nombre = 17\n",
        "print(\"Tu edad es: \", nombre + 2, type(nombre))"
      ],
      "metadata": {
        "id": "B2cAP15it6wC",
        "outputId": "20e0bbb1-089a-4639-ad12-2e0c01e7a177",
        "colab": {
          "base_uri": "https://localhost:8080/"
        }
      },
      "execution_count": null,
      "outputs": [
        {
          "output_type": "stream",
          "name": "stdout",
          "text": [
            "Hola  Jose Lobos <class 'str'>\n",
            "Tu edad es:  19 <class 'int'>\n"
          ]
        }
      ]
    },
    {
      "cell_type": "code",
      "source": [
        "nombre = \"Jose Lobos\"\n",
        "print(\"Tu nombre es: \", nombre, \"Longitud de tu Nombre: \", len(nombre), \"Iniciales: \", nombre[0],nombre[5])"
      ],
      "metadata": {
        "id": "Ur1LhJwZuapt",
        "outputId": "ee5148d7-9488-427e-f50d-0510abf108df",
        "colab": {
          "base_uri": "https://localhost:8080/"
        }
      },
      "execution_count": null,
      "outputs": [
        {
          "output_type": "stream",
          "name": "stdout",
          "text": [
            "Tu nombre es:  Jose Lobos Longitud de tu Nombre:  10 Iniciales:  J L\n"
          ]
        }
      ]
    },
    {
      "cell_type": "code",
      "source": [
        "num1 = 5\n",
        "num2 = 4.6\n",
        "resp = num1 + num2\n",
        "print(\"La suma de num1: \", num1 , \" + num2: \", num2, \"es igual a: \", resp)"
      ],
      "metadata": {
        "id": "8se8JgJsuxRF",
        "outputId": "52cc0040-562d-4175-ced7-4480ca9bd110",
        "colab": {
          "base_uri": "https://localhost:8080/"
        }
      },
      "execution_count": null,
      "outputs": [
        {
          "output_type": "stream",
          "name": "stdout",
          "text": [
            "La suma de num1:  5  + num2:  4.6 es igual a:  9.6\n"
          ]
        }
      ]
    },
    {
      "cell_type": "code",
      "source": [
        "num1 = float(input(\"Ingrese un numero entero: \"))\n",
        "num2 = float(input(\"Ingrese otro Num decimal: \"))\n",
        "resp = num1 + num2\n",
        "print(\"SUma\", resp, type(resp))"
      ],
      "metadata": {
        "id": "7tJv9xmyu3P2",
        "outputId": "ab882ef0-689b-41a8-f0e3-dd80056b70f1",
        "colab": {
          "base_uri": "https://localhost:8080/"
        }
      },
      "execution_count": null,
      "outputs": [
        {
          "output_type": "stream",
          "name": "stdout",
          "text": [
            "Ingrese un numero entero: 7\n",
            "Ingrese otro Num decimal: 3\n",
            "SUma 10.0 <class 'float'>\n"
          ]
        }
      ]
    },
    {
      "cell_type": "code",
      "source": [
        "nombre = input(\"Dime tu nombre: \")\n",
        "print(nombre, type(nombre), len(nombre))\n",
        "\n",
        "print(nombre[0], nombre[1], nombre[2], nombre[3])"
      ],
      "metadata": {
        "id": "v_BoLw_zu_Fa",
        "outputId": "191efe11-8113-4ed7-f337-e12e87ae03b7",
        "colab": {
          "base_uri": "https://localhost:8080/"
        }
      },
      "execution_count": null,
      "outputs": [
        {
          "output_type": "stream",
          "name": "stdout",
          "text": [
            "Dime tu nombre: Jose\n",
            "Jose <class 'str'> 4\n",
            "J o s e\n"
          ]
        }
      ]
    },
    {
      "cell_type": "code",
      "source": [
        "resp = 4 - 4 * 6 / 2 + 1\n",
        "print(resp)\n"
      ],
      "metadata": {
        "id": "XLBSus8CvG6E",
        "outputId": "4d65c3b4-e6b7-4efb-9887-8080256db913",
        "colab": {
          "base_uri": "https://localhost:8080/"
        }
      },
      "execution_count": null,
      "outputs": [
        {
          "output_type": "stream",
          "name": "stdout",
          "text": [
            "-7.0\n"
          ]
        }
      ]
    },
    {
      "cell_type": "code",
      "source": [
        "gustaProgramacion = True \n",
        "print(\"Te gusta programar: \", gustaProgramacion)\n",
        "\n",
        "gustaDiseno = False\n",
        "print(\"Te gusta diseñar: \", gustaDiseno)"
      ],
      "metadata": {
        "id": "LezSPSXevLqc",
        "outputId": "44067d18-51cd-4578-a9cc-c413b269808d",
        "colab": {
          "base_uri": "https://localhost:8080/"
        }
      },
      "execution_count": null,
      "outputs": [
        {
          "output_type": "stream",
          "name": "stdout",
          "text": [
            "Te gusta programar:  True\n",
            "Te gusta diseñar:  False\n"
          ]
        }
      ]
    },
    {
      "cell_type": "code",
      "source": [
        "def suma(num1, num2):\n",
        "  return num1 + num2\n",
        "print(\"La suma de 5 + 7 = \", suma(5,7))"
      ],
      "metadata": {
        "id": "tZYSBkOuvW9S",
        "outputId": "de5dad40-aba4-499c-9c41-78a1c0b2d1d4",
        "colab": {
          "base_uri": "https://localhost:8080/"
        }
      },
      "execution_count": null,
      "outputs": [
        {
          "output_type": "stream",
          "name": "stdout",
          "text": [
            "La suma de 5 + 7 =  12\n"
          ]
        }
      ]
    },
    {
      "cell_type": "code",
      "source": [
        "def suma(num1, num2):\n",
        "  return num1 + num2\n",
        "num1 = float(input(\"Dime un numero: \"))\n",
        "num2 = float(input(\"Dime otro numero: \"))\n",
        "\n",
        "print(\"La suma es: \", suma(num1, num2))"
      ],
      "metadata": {
        "id": "4GkvjuzNvatQ",
        "outputId": "4b7c7f48-96a7-4e2c-dcc7-b224bfaf8942",
        "colab": {
          "base_uri": "https://localhost:8080/"
        }
      },
      "execution_count": null,
      "outputs": [
        {
          "output_type": "stream",
          "name": "stdout",
          "text": [
            "Dime un numero: 5\n",
            "Dime otro numero: 4\n",
            "La suma es:  9.0\n"
          ]
        }
      ]
    },
    {
      "cell_type": "code",
      "source": [
        "suma = lambda num1,num2: num1 + num2"
      ],
      "metadata": {
        "id": "4jCnfCzHvf74"
      },
      "execution_count": null,
      "outputs": []
    },
    {
      "cell_type": "code",
      "source": [
        "num1 = float(input(\"Num1: \"))\n",
        "num2 = float(input(\"Num2: \"))\n",
        "print( \"La respuesta es: \", suma(num1, num2))"
      ],
      "metadata": {
        "id": "qyTmgoKlvkiM",
        "outputId": "94a97b0a-e4f7-4e0d-d996-93a235063d3b",
        "colab": {
          "base_uri": "https://localhost:8080/"
        }
      },
      "execution_count": null,
      "outputs": [
        {
          "output_type": "stream",
          "name": "stdout",
          "text": [
            "Num1: 5\n",
            "Num2: 4.5\n",
            "La respuesta es:  9.5\n"
          ]
        }
      ]
    },
    {
      "cell_type": "code",
      "source": [
        "lista = [2,7,8,6,9]"
      ],
      "metadata": {
        "id": "2DaQkS4Tvpwj"
      },
      "execution_count": null,
      "outputs": []
    },
    {
      "cell_type": "code",
      "source": [
        "cuadrado = lambda num: num**2"
      ],
      "metadata": {
        "id": "2e7ktoBSvsqk"
      },
      "execution_count": null,
      "outputs": []
    },
    {
      "cell_type": "code",
      "source": [
        "print( type(cuadrado) )"
      ],
      "metadata": {
        "id": "o3hIPVCwvwBD",
        "outputId": "ba98c6b4-0fe9-40de-c8c0-a46611feeec4",
        "colab": {
          "base_uri": "https://localhost:8080/"
        }
      },
      "execution_count": null,
      "outputs": [
        {
          "output_type": "stream",
          "name": "stdout",
          "text": [
            "<class 'function'>\n"
          ]
        }
      ]
    },
    {
      "cell_type": "code",
      "source": [
        "cubo  = lambda num: num**3"
      ],
      "metadata": {
        "id": "jJp8a-zyvy7O"
      },
      "execution_count": null,
      "outputs": []
    },
    {
      "cell_type": "code",
      "source": [
        "potencia = lambda num, n: num**n"
      ],
      "metadata": {
        "id": "MhqGypX3v6Mf"
      },
      "execution_count": null,
      "outputs": []
    },
    {
      "cell_type": "code",
      "source": [
        "print(\"Lista: \", lista, \" al cuadrado: \", list( map(cuadrado, lista) ), \" al cubo: \", list(map(cubo, lista)) )"
      ],
      "metadata": {
        "id": "9YaAQnZmv9bb",
        "outputId": "3c841a6c-01e1-481b-88c1-babc176f7835",
        "colab": {
          "base_uri": "https://localhost:8080/"
        }
      },
      "execution_count": null,
      "outputs": [
        {
          "output_type": "stream",
          "name": "stdout",
          "text": [
            "Lista:  [2, 7, 8, 6, 9]  al cuadrado:  [4, 49, 64, 36, 81]  al cubo:  [8, 343, 512, 216, 729]\n"
          ]
        }
      ]
    },
    {
      "cell_type": "code",
      "source": [
        "print( \"2 al cubo es: \", potencia(4, 5) )"
      ],
      "metadata": {
        "id": "sghf_4IqwBSW",
        "outputId": "95250d6c-6b21-41b2-a8a4-df546c563a16",
        "colab": {
          "base_uri": "https://localhost:8080/"
        }
      },
      "execution_count": null,
      "outputs": [
        {
          "output_type": "stream",
          "name": "stdout",
          "text": [
            "2 al cubo es:  1024\n"
          ]
        }
      ]
    },
    {
      "cell_type": "code",
      "source": [
        "print(\"Lista Original: \", lista, \" al cubo: \", list(map(lambda num: num**3, lista)) )"
      ],
      "metadata": {
        "id": "zqy5EN5WwEvw",
        "outputId": "f5422a62-469c-4ffd-a88d-4a0807d893f5",
        "colab": {
          "base_uri": "https://localhost:8080/"
        }
      },
      "execution_count": null,
      "outputs": [
        {
          "output_type": "stream",
          "name": "stdout",
          "text": [
            "Lista Original:  [2, 7, 8, 6, 9]  al cubo:  [8, 343, 512, 216, 729]\n"
          ]
        }
      ]
    },
    {
      "cell_type": "code",
      "source": [
        "fpares = lambda num: num%2==0"
      ],
      "metadata": {
        "id": "n7GKuOmVwHnz"
      },
      "execution_count": null,
      "outputs": []
    },
    {
      "cell_type": "code",
      "source": [
        "fimpares = lambda num: num%2!=0"
      ],
      "metadata": {
        "id": "vRyRVs4rwJ9I"
      },
      "execution_count": null,
      "outputs": []
    },
    {
      "cell_type": "code",
      "source": [
        "print(\"Lista original: \", lista, \" solo pares: \", list(filter(fpares, lista)), \" los impares: \", list(filter(fimpares, lista)) )"
      ],
      "metadata": {
        "id": "YTaSD5FHwMSB",
        "outputId": "f68a3bc5-feed-4041-d648-b9a43eeaba4e",
        "colab": {
          "base_uri": "https://localhost:8080/"
        }
      },
      "execution_count": null,
      "outputs": [
        {
          "output_type": "stream",
          "name": "stdout",
          "text": [
            "Lista original:  [2, 7, 8, 6, 9]  solo pares:  [2, 8, 6]  los impares:  [7, 9]\n"
          ]
        }
      ]
    },
    {
      "cell_type": "code",
      "source": [
        "c= 27"
      ],
      "metadata": {
        "id": "6em6z7-jf2Va"
      },
      "execution_count": null,
      "outputs": []
    },
    {
      "cell_type": "code",
      "source": [
        "def convertirCaF(c):\n",
        "  return c*9/5 + 32"
      ],
      "metadata": {
        "id": "IMBks2qNf9Rt"
      },
      "execution_count": null,
      "outputs": []
    },
    {
      "cell_type": "code",
      "source": [
        "print(\"Celsius a F: \", convertirCaF(c))"
      ],
      "metadata": {
        "id": "Mt3OZOomgAC6",
        "outputId": "2c814f31-ff85-4a66-c048-1378876b8663",
        "colab": {
          "base_uri": "https://localhost:8080/"
        }
      },
      "execution_count": null,
      "outputs": [
        {
          "output_type": "stream",
          "name": "stdout",
          "text": [
            "Celsius a F:  80.6\n"
          ]
        }
      ]
    },
    {
      "cell_type": "code",
      "source": [
        "gradosCiudades = [27, 30, 32, 35, 40, 45]"
      ],
      "metadata": {
        "id": "c8Fm3Lr3gGKK"
      },
      "execution_count": null,
      "outputs": []
    },
    {
      "cell_type": "code",
      "source": [
        "print(gradosCiudades, \"Respuesta: \", list(map(convertirCaF, gradosCiudades)) )"
      ],
      "metadata": {
        "id": "STVMwfAUgIrf",
        "outputId": "9ac3bf4b-f3fe-40bd-d44c-ffe89d9165a3",
        "colab": {
          "base_uri": "https://localhost:8080/"
        }
      },
      "execution_count": null,
      "outputs": [
        {
          "output_type": "stream",
          "name": "stdout",
          "text": [
            "[27, 30, 32, 35, 40, 45] Respuesta:  [80.6, 86.0, 89.6, 95.0, 104.0, 113.0]\n"
          ]
        }
      ]
    },
    {
      "cell_type": "code",
      "source": [
        "gradosf = [80.6, 86, 89.6, 95, 104, 113]"
      ],
      "metadata": {
        "id": "UQbRM-WjgN75"
      },
      "execution_count": null,
      "outputs": []
    },
    {
      "cell_type": "code",
      "source": [
        "def convertirFaC(f):\n",
        "  return (f-32) * 5/9"
      ],
      "metadata": {
        "id": "KAxMDMmVgQ84"
      },
      "execution_count": null,
      "outputs": []
    },
    {
      "cell_type": "code",
      "source": [
        "print(gradosf, \" Respuesta: \", list(map(convertirFaC, gradosf)) )"
      ],
      "metadata": {
        "id": "d2wGXNtVgUNe",
        "outputId": "02ea68f0-6b2e-4afe-cf82-43ed6f7e57d7",
        "colab": {
          "base_uri": "https://localhost:8080/"
        }
      },
      "execution_count": null,
      "outputs": [
        {
          "output_type": "stream",
          "name": "stdout",
          "text": [
            "[80.6, 86, 89.6, 95, 104, 113]  Respuesta:  [26.999999999999996, 30.0, 32.0, 35.0, 40.0, 45.0]\n"
          ]
        }
      ]
    },
    {
      "cell_type": "code",
      "source": [
        "print(gradosf, \" Respuesta: \", list(map(lambda f: (f-32)*5/9, gradosf)) )"
      ],
      "metadata": {
        "id": "spbuCDQLgXm0",
        "outputId": "54a3a17e-7c40-4361-a08a-3cf6c6026694",
        "colab": {
          "base_uri": "https://localhost:8080/"
        }
      },
      "execution_count": null,
      "outputs": [
        {
          "output_type": "stream",
          "name": "stdout",
          "text": [
            "[80.6, 86, 89.6, 95, 104, 113]  Respuesta:  [26.999999999999996, 30.0, 32.0, 35.0, 40.0, 45.0]\n"
          ]
        }
      ]
    },
    {
      "cell_type": "markdown",
      "source": [
        "TAREA\n",
        "\n",
        "Hacer un algoritmo en python que convierta de grados Celsius a Kelvin y viceversa, usando funciones de usuario y lambda. \n",
        "\n",
        "Celsius a kelvin"
      ],
      "metadata": {
        "id": "3tO44Cs7baI2"
      }
    },
    {
      "cell_type": "code",
      "source": [
        "gradoscel = [28, 31, 33, 36, 41, 46]"
      ],
      "metadata": {
        "id": "iINqtUx-beLc"
      },
      "execution_count": null,
      "outputs": []
    },
    {
      "cell_type": "code",
      "source": [
        "def convertirCaK(c):\n",
        "\n",
        "  return c+273.15 "
      ],
      "metadata": {
        "id": "zHQhC9zvbhxA"
      },
      "execution_count": null,
      "outputs": []
    },
    {
      "cell_type": "code",
      "source": [
        "print(gradoscel, \" Respuesta: \", list(map(lambda c: c+273.15, gradoscel)) )"
      ],
      "metadata": {
        "id": "k1oju9IpbkA0",
        "outputId": "fafa025e-622b-4dd0-8d8b-f882eae64b57",
        "colab": {
          "base_uri": "https://localhost:8080/"
        }
      },
      "execution_count": null,
      "outputs": [
        {
          "output_type": "stream",
          "name": "stdout",
          "text": [
            "[28, 31, 33, 36, 41, 46]  Respuesta:  [301.15, 304.15, 306.15, 309.15, 314.15, 319.15]\n"
          ]
        }
      ]
    },
    {
      "cell_type": "markdown",
      "source": [
        "\n",
        "\n",
        "Kelvin a Celsius"
      ],
      "metadata": {
        "id": "jb5cL-I1br_d"
      }
    },
    {
      "cell_type": "code",
      "source": [
        "gradoskel = [301.15, 304.15, 306.15, 309.15, 314.15, 319.15]"
      ],
      "metadata": {
        "id": "IUDhzc-wbs8W"
      },
      "execution_count": null,
      "outputs": []
    },
    {
      "cell_type": "code",
      "source": [
        "def convertirCaK(k):\n",
        "\n",
        "  return k-273.15 "
      ],
      "metadata": {
        "id": "IaDStdTdbwRT"
      },
      "execution_count": null,
      "outputs": []
    },
    {
      "cell_type": "code",
      "source": [
        "print(gradoskel, \" Respuesta: \", list(map(lambda k: k-273.15, gradoskel)) )"
      ],
      "metadata": {
        "id": "NzJoV-ksbyyD",
        "outputId": "fa0bf4a4-c345-4711-b78c-115c501c9fd6",
        "colab": {
          "base_uri": "https://localhost:8080/"
        }
      },
      "execution_count": null,
      "outputs": [
        {
          "output_type": "stream",
          "name": "stdout",
          "text": [
            "[301.15, 304.15, 306.15, 309.15, 314.15, 319.15]  Respuesta:  [28.0, 31.0, 33.0, 36.0, 41.0, 46.0]\n"
          ]
        }
      ]
    },
    {
      "cell_type": "markdown",
      "source": [
        "Celsius a kelvin que el usuario ingrese datos\n"
      ],
      "metadata": {
        "id": "ulq4RJZEscJ2"
      }
    },
    {
      "cell_type": "code",
      "source": [
        "c = float(input(\"Ingrese los grados Celsius para convertirlos a Kelvin: \"))\n",
        "def CaK(c):\n",
        "  Resultado= c + 273.15\n",
        "  return Resultado\n",
        "\n",
        "print(CaK(c))"
      ],
      "metadata": {
        "id": "T3wyVPn8sh0j",
        "outputId": "30547bfa-bc68-4f8e-953c-fa32cb539ac4",
        "colab": {
          "base_uri": "https://localhost:8080/"
        }
      },
      "execution_count": 2,
      "outputs": [
        {
          "output_type": "stream",
          "name": "stdout",
          "text": [
            "Ingrese los grados Celsius para convertirlos a Kelvin: 27\n",
            "300.15\n"
          ]
        }
      ]
    },
    {
      "cell_type": "markdown",
      "source": [
        "Kelvin a Celsius que el usuario ingrese datos\n"
      ],
      "metadata": {
        "id": "XbYxynkBsxHm"
      }
    },
    {
      "cell_type": "code",
      "source": [
        "c = float(input(\"Ingrese los grados Kelvin para convertirlos a Celsius: \"))\n",
        "def CaK(c):\n",
        "  Resultado= c - 273.15\n",
        "  return Resultado\n",
        "\n",
        "print(CaK(c))"
      ],
      "metadata": {
        "id": "M2YJ3MYHs5uj",
        "outputId": "b1e46a06-93f2-478d-c1a2-94cff75b0bce",
        "colab": {
          "base_uri": "https://localhost:8080/"
        }
      },
      "execution_count": 3,
      "outputs": [
        {
          "output_type": "stream",
          "name": "stdout",
          "text": [
            "Ingrese los grados Kelvin para convertirlos a Celsius: 300.15\n",
            "27.0\n"
          ]
        }
      ]
    },
    {
      "cell_type": "markdown",
      "source": [
        "Celsius a kelvin que el usuario ingrese datos con lambda"
      ],
      "metadata": {
        "id": "pAstUr7ntCf_"
      }
    },
    {
      "cell_type": "code",
      "source": [
        "conversionCaK =lambda c: c +273.15\n",
        "Gradosc= float(input(\"Ingrese los grados Celsius para convertir a Kelvin:\"))\n",
        "print(conversionCaK(Gradosc))"
      ],
      "metadata": {
        "id": "WupKdmO7tMrc",
        "outputId": "80e2553e-d2c8-4075-e53f-000033cb5ce5",
        "colab": {
          "base_uri": "https://localhost:8080/"
        }
      },
      "execution_count": 4,
      "outputs": [
        {
          "output_type": "stream",
          "name": "stdout",
          "text": [
            "Ingrese los grados Celsius para convertir a Kelvin:27\n",
            "300.15\n"
          ]
        }
      ]
    },
    {
      "cell_type": "markdown",
      "source": [
        "Kevil a Celsius que el usuario ingrese datos con lambda"
      ],
      "metadata": {
        "id": "-Wwyesk3tTXN"
      }
    },
    {
      "cell_type": "code",
      "source": [
        "conversionCaK =lambda c: c -273.15\n",
        "Gradosc= float(input(\"Ingrese los grados Kelvin para convertir a Celsius: \"))\n",
        "print(conversionCaK(Gradosc))"
      ],
      "metadata": {
        "id": "PLwUcZwntW1l",
        "outputId": "16f47224-29a7-4472-9ca7-4d05ca85854e",
        "colab": {
          "base_uri": "https://localhost:8080/"
        }
      },
      "execution_count": 5,
      "outputs": [
        {
          "output_type": "stream",
          "name": "stdout",
          "text": [
            "Ingrese los grados Kelvin para convertir a Celsius: 300.15\n",
            "27.0\n"
          ]
        }
      ]
    },
    {
      "cell_type": "markdown",
      "source": [
        "Tarea \n",
        "Hacer un algoritmo en python que encuentre la Nota Final de Ciclo de una Materia en Particular usando funciones de usuario y lambda."
      ],
      "metadata": {
        "id": "1FR5k7i3trdI"
      }
    },
    {
      "cell_type": "code",
      "source": [
        "print(\"Ingrese las notas de el primer computo:\")\n",
        "lab1C1=float(input())\n",
        "lab2C1=float(input())\n",
        "Parcial1=float(input())\n",
        "print(\"Ingrese las notas de el segundo computo:\")\n",
        "lab1C2=float(input())\n",
        "lab2C2=float(input())\n",
        "Parcial2=float(input())\n",
        "print(\"Ingrese las notas de el tercer computo:\")\n",
        "lab1C3=float(input())\n",
        "lab2C3=float(input())\n",
        "Parcial3=float(input())\n",
        "\n",
        "def notas(a,b,c):\n",
        "  total= (a *0.3) + (b *0.3)+ (c *0.4)\n",
        "  return total\n",
        "\n",
        "comp1=notas(lab1C1,lab2C1,Parcial1)\n",
        "comp2=notas(lab1C2,lab2C2,Parcial2)\n",
        "comp3=notas(lab1C3,lab2C3,Parcial3)\n",
        "\n",
        "notaFinal= (comp1 + comp2 + comp3)/3\n",
        "print(notaFinal)"
      ],
      "metadata": {
        "id": "Jvbt2VZKtuJ2",
        "outputId": "1cb14759-1da9-4943-f01d-98459e48c08b",
        "colab": {
          "base_uri": "https://localhost:8080/"
        }
      },
      "execution_count": 6,
      "outputs": [
        {
          "output_type": "stream",
          "name": "stdout",
          "text": [
            "Ingrese las notas de el primer computo:\n",
            "5\n",
            "5\n",
            "5\n",
            "Ingrese las notas de el segundo computo:\n",
            "5\n",
            "5\n",
            "5\n",
            "Ingrese las notas de el tercer computo:\n",
            "5\n",
            "5\n",
            "5\n",
            "5.0\n"
          ]
        }
      ]
    }
  ],
  "metadata": {
    "colab": {
      "collapsed_sections": [],
      "name": "Te damos la bienvenida a Colaboratory",
      "provenance": [],
      "include_colab_link": true
    },
    "kernelspec": {
      "display_name": "Python 3",
      "name": "python3"
    }
  },
  "nbformat": 4,
  "nbformat_minor": 0
}